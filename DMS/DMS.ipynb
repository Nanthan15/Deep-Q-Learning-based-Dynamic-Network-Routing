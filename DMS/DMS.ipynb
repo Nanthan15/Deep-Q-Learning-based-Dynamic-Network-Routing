{
 "cells": [
  {
   "cell_type": "code",
   "execution_count": 1,
   "id": "b8c00995-2861-4c9a-831b-6ce30a4894e8",
   "metadata": {},
   "outputs": [],
   "source": [
    "import networkx as nx\n",
    "import numpy as np\n",
    "import random\n",
    "import tensorflow as tf\n",
    "from tensorflow.keras.models import Sequential\n",
    "from tensorflow.keras.layers import Dense\n",
    "from tensorflow.keras.optimizers import Adam\n",
    "import os"
   ]
  },
  {
   "cell_type": "code",
   "execution_count": 3,
   "id": "0cf3aba5-ec89-492f-90e9-97cee4114a05",
   "metadata": {},
   "outputs": [],
   "source": [
    "# Environment Class\n",
    "class NetworkEnvironment:\n",
    "    def __init__(self, topology):\n",
    "        self.topology = topology\n",
    "        self.n_nodes = len(topology.nodes)\n",
    "        self.reset()\n",
    "\n",
    "    def reset(self):\n",
    "        self.current_node = np.random.choice(self.n_nodes)\n",
    "        self.done = False\n",
    "        return self.current_node\n",
    "\n",
    "    def step(self, action):\n",
    "        next_node = action\n",
    "        if next_node in self.topology[self.current_node]:\n",
    "            reward = -self.topology[self.current_node][next_node].get('weight', 1)\n",
    "            self.current_node = next_node\n",
    "        else:\n",
    "            reward = -10  # Penalty for invalid action\n",
    "        if self.current_node == self.n_nodes - 1:  # Assuming the last node is the destination\n",
    "            self.done = True\n",
    "            reward = 100\n",
    "        return self.current_node, reward, self.done\n",
    "\n",
    "    def get_valid_actions(self):\n",
    "        return list(self.topology[self.current_node].keys())"
   ]
  },
  {
   "cell_type": "code",
   "execution_count": 4,
   "id": "f435ffde-645c-4c7b-ad9a-5598acff1670",
   "metadata": {},
   "outputs": [],
   "source": [
    "# DQN Agent Class\n",
    "class DQNAgent:\n",
    "    def __init__(self, n_nodes, n_actions, model_name='dqn_model.weights.h5', learning_rate=0.01, gamma=0.95, epsilon=1.0, epsilon_decay=0.995, epsilon_min=0.01, batch_size=32, memory_size=2000):\n",
    "        self.n_nodes = n_nodes\n",
    "        self.n_actions = n_actions\n",
    "        self.learning_rate = learning_rate\n",
    "        self.gamma = gamma\n",
    "        self.epsilon = epsilon\n",
    "        self.epsilon_decay = epsilon_decay\n",
    "        self.epsilon_min = epsilon_min\n",
    "        self.batch_size = batch_size\n",
    "        self.memory = []\n",
    "        self.memory_size = memory_size\n",
    "        self.model_name = model_name\n",
    "        self.model = self._build_model()\n",
    "\n",
    "    def _build_model(self):\n",
    "        model = Sequential()\n",
    "        model.add(Dense(24, input_shape=(self.n_nodes,), activation='relu'))\n",
    "        model.add(Dense(24, activation='relu'))\n",
    "        model.add(Dense(self.n_actions, activation='linear'))\n",
    "        model.compile(loss='mse', optimizer=Adam(learning_rate=self.learning_rate))\n",
    "        return model\n",
    "\n",
    "    def remember(self, state, action, reward, next_state, done):\n",
    "        if len(self.memory) > self.memory_size:\n",
    "            self.memory.pop(0)\n",
    "        self.memory.append((state, action, reward, next_state, done))\n",
    "\n",
    "    def act(self, state, valid_actions):\n",
    "        if np.random.rand() <= self.epsilon:\n",
    "            return random.choice(valid_actions)\n",
    "        act_values = self.model.predict(state)\n",
    "        return valid_actions[np.argmax(act_values[0][valid_actions])]\n",
    "\n",
    "    def replay(self):\n",
    "        minibatch = random.sample(self.memory, min(len(self.memory), self.batch_size))\n",
    "        for state, action, reward, next_state, done in minibatch:\n",
    "            target = reward\n",
    "            if not done:\n",
    "                target = reward + self.gamma * np.amax(self.model.predict(next_state)[0])\n",
    "            target_f = self.model.predict(state)\n",
    "            target_f[0][action] = target\n",
    "            self.model.fit(state, target_f, epochs=1, verbose=0)\n",
    "        if self.epsilon > self.epsilon_min:\n",
    "            self.epsilon *= self.epsilon_decay\n",
    "\n",
    "    def load(self):\n",
    "        self.model.load_weights(self.model_name)\n",
    "\n",
    "    def save(self):\n",
    "        self.model.save_weights(self.model_name)"
   ]
  },
  {
   "cell_type": "code",
   "execution_count": 5,
   "id": "6efe8fb1-fa68-4ed5-acc3-222c6bf40028",
   "metadata": {},
   "outputs": [],
   "source": [
    "# Helper Functions\n",
    "def preprocess_state(state, n_nodes):\n",
    "    state_vec = np.zeros((1, n_nodes))\n",
    "    state_vec[0][state] = 1\n",
    "    return state_vec"
   ]
  },
  {
   "cell_type": "code",
   "execution_count": 15,
   "id": "734bd04c-1189-402d-a67d-ba1d9c333d6f",
   "metadata": {},
   "outputs": [],
   "source": [
    "def train_dqn_agent(env, agent, n_episodes=50):\n",
    "    for episode in range(n_episodes):\n",
    "        state = env.reset()\n",
    "        state = preprocess_state(state, env.n_nodes)\n",
    "        total_reward = 0\n",
    "        for time in range(100):\n",
    "            valid_actions = env.get_valid_actions()\n",
    "            action = agent.act(state, valid_actions)\n",
    "            next_state, reward, done = env.step(action)\n",
    "            next_state = preprocess_state(next_state, env.n_nodes)\n",
    "            agent.remember(state, action, reward, next_state, done)\n",
    "            state = next_state\n",
    "            total_reward += reward\n",
    "            if done:\n",
    "                print(f\"Episode: {episode+1}/{n_episodes}, Score: {total_reward}, Epsilon: {agent.epsilon:.2f}\")\n",
    "                break\n",
    "            agent.replay()\n",
    "    agent.save()\n",
    "\n",
    "def test_dqn_agent(env, agent, start_node, destination_node):\n",
    "    state = start_node\n",
    "    state_vec = preprocess_state(state, env.n_nodes)\n",
    "    path = [state]\n",
    "    \n",
    "    while state != destination_node:\n",
    "        valid_actions = env.get_valid_actions()\n",
    "        action = agent.act(state_vec, valid_actions)\n",
    "        state, _, done = env.step(action)\n",
    "        path.append(state)\n",
    "        state_vec = preprocess_state(state, env.n_nodes)\n",
    "        \n",
    "        if done or len(path) > env.n_nodes:  # Adding condition to avoid infinite loops\n",
    "            break\n",
    "    \n",
    "    return path"
   ]
  },
  {
   "cell_type": "code",
   "execution_count": 6,
   "id": "d9938f0a-7199-4b70-8a07-207a4ae618b1",
   "metadata": {},
   "outputs": [],
   "source": [
    "def find_optimal_path(topology, start_node, destination_node):\n",
    "    # Use Dijkstra's algorithm to find the shortest path\n",
    "    optimal_path = nx.dijkstra_path(topology, start_node, destination_node, weight='weight')\n",
    "    return optimal_path"
   ]
  },
  {
   "cell_type": "code",
   "execution_count": 7,
   "id": "ccee38a1-3a88-4732-8554-f3e8c6a0d572",
   "metadata": {},
   "outputs": [],
   "source": [
    "import matplotlib.pyplot as plt\n",
    "def visualize_graph(topology, path=None):\n",
    "    pos = nx.spring_layout(topology)\n",
    "    plt.figure(figsize=(7, 5))\n",
    "    \n",
    "    # Draw the graph\n",
    "    nx.draw(topology, pos, with_labels=True, node_color='lightblue', node_size=500, font_size=16, font_weight='bold')\n",
    "    nx.draw_networkx_edge_labels(topology, pos, edge_labels={(u, v): f'{d[\"weight\"]}' for u, v, d in topology.edges(data=True)}, font_size=14)\n",
    "\n",
    "    # Highlight the path if provided\n",
    "    if path:\n",
    "        edges_in_path = list(zip(path, path[1:]))\n",
    "        nx.draw_networkx_edges(topology, pos, edgelist=edges_in_path, edge_color='red', width=3)\n",
    "    \n",
    "    plt.show()"
   ]
  },
  {
   "cell_type": "code",
   "execution_count": 40,
   "id": "50227ea4-1ad6-4d52-9564-ae551dce2ddf",
   "metadata": {},
   "outputs": [
    {
     "name": "stdout",
     "output_type": "stream",
     "text": [
      "Enter the number of nodes:  6\n",
      "Enter the number of edges:  8\n"
     ]
    },
    {
     "name": "stdout",
     "output_type": "stream",
     "text": [
      "Enter the edges in the format 'node1 node2 weight':\n"
     ]
    },
    {
     "name": "stdout",
     "output_type": "stream",
     "text": [
      " 0 1 4\n",
      " 1 5 2\n",
      " 5 4 3\n",
      " 0 2 12\n",
      " 0 4 15\n",
      " 4 3 7\n",
      " 2 3 8\n",
      " 2 4 1\n",
      "Enter the destination node (0 to 5):  0\n",
      "Enter the start node (0 to 5):  3\n"
     ]
    },
    {
     "data": {
      "image/png": "[encoded data removed]",
      "text/plain": [
       "<Figure size 700x500 with 1 Axes>"
      ]
     },
     "metadata": {},
     "output_type": "display_data"
    },
    {
     "name": "stdout",
     "output_type": "stream",
     "text": [
      "Model already trained. Loading saved model...\n",
      "Optimal Path: [3, 4, 5, 1, 0]\n",
      "Visualizing the Optimal path...\n"
     ]
    },
    {
     "data": {
      "image/png": "[encoded data removed]",
      "text/plain": [
       "<Figure size 700x500 with 1 Axes>"
      ]
     },
     "metadata": {},
     "output_type": "display_data"
    }
   ],
   "source": [
    "def main():\n",
    "    topology = nx.Graph()\n",
    "\n",
    "    # User inputs for nodes and edges\n",
    "    n_nodes = int(input(\"Enter the number of nodes: \"))\n",
    "    n_edges = int(input(\"Enter the number of edges: \"))\n",
    "    \n",
    "    print(\"Enter the edges in the format 'node1 node2 weight':\")\n",
    "    for _ in range(n_edges):\n",
    "        u, v, w = map(int, input().split())\n",
    "        topology.add_edge(u, v, weight=w)\n",
    "\n",
    "    destination_node = int(input(f\"Enter the destination node (0 to {n_nodes - 1}): \"))\n",
    "    start_node = int(input(f\"Enter the start node (0 to {n_nodes - 1}): \"))\n",
    "\n",
    "    # Visualize the initial graph\n",
    "    visualize_graph(topology)\n",
    "\n",
    "    # Initialize environment and agent\n",
    "    env = NetworkEnvironment(topology)\n",
    "    agent = DQNAgent(n_nodes=n_nodes, n_actions=n_nodes)\n",
    "\n",
    "    # Load pre-trained model or train a new one\n",
    "    if not os.path.exists(agent.model_name):\n",
    "        print(\"Training the model on initial topology...\")\n",
    "        train_dqn_agent(env, agent)\n",
    "    else:\n",
    "        print(\"Model already trained. Loading saved model...\")\n",
    "        #agent.load()\n",
    "\n",
    "    # Calculate  optimal path for comparison\n",
    "    optimal_path = find_optimal_path(topology, start_node, destination_node)\n",
    "    print(\"Optimal Path:\", optimal_path)\n",
    "    \n",
    "    # Visualize the graph with the Optimal path highlighted\n",
    "    print(\"Visualizing the Optimal path...\")\n",
    "    visualize_graph(topology, optimal_path)\n",
    "\n",
    "if __name__ == \"__main__\":\n",
    "    main()"
   ]
  },
  {
   "cell_type": "code",
   "execution_count": 5,
   "id": "a8eb44bd-c4f4-4755-be90-bd261f0fe559",
   "metadata": {},
   "outputs": [
    {
     "data": {
      "application/vnd.plotly.v1+json": {
       "config": {
        "plotlyServerURL": "https://plot.ly"
       },
       "data": [
        {
         "line": {
          "color": "black",
          "width": 2
         },
         "mode": "lines",
         "showlegend": false,
         "type": "scatter",
         "x": [
          0.06033437645243828,
          0.3474531864059394
         ],
         "y": [
          0.2356740338778018,
          -0.7118337028923702
         ]
        },
        {
         "mode": "text",
         "showlegend": false,
         "text": [
          "4"
         ],
         "textposition": "bottom center",
         "type": "scatter",
         "x": [
          0.20389378142918885
         ],
         "y": [
          -0.2380798345072842
         ]
        },
        {
         "line": {
          "color": "black",
          "width": 2
         },
         "mode": "lines",
         "showlegend": false,
         "type": "scatter",
         "x": [
          0.06033437645243828,
          -0.20696288445172933
         ],
         "y": [
          0.2356740338778018,
          -0.021071845471052574
         ]
        },
        {
         "mode": "text",
         "showlegend": false,
         "text": [
          "15"
         ],
         "textposition": "bottom center",
         "type": "scatter",
         "x": [
          -0.07331425399964553
         ],
         "y": [
          0.10730109420337462
         ]
        },
        {
         "line": {
          "color": "black",
          "width": 2
         },
         "mode": "lines",
         "showlegend": false,
         "type": "scatter",
         "x": [
          0.06033437645243828,
          -0.04657738421654977
         ],
         "y": [
          0.2356740338778018,
          0.8754328315249028
         ]
        },
        {
         "mode": "text",
         "showlegend": false,
         "text": [
          "12"
         ],
         "textposition": "bottom center",
         "type": "scatter",
         "x": [
          0.006878496117944256
         ],
         "y": [
          0.5555534327013523
         ]
        },
        {
         "line": {
          "color": "black",
          "width": 2
         },
         "mode": "lines",
         "showlegend": false,
         "type": "scatter",
         "x": [
          0.06033437645243828,
          0.33987393561511814
         ],
         "y": [
          0.2356740338778018,
          0.6217986829607193
         ]
        },
        {
         "mode": "text",
         "showlegend": false,
         "text": [
          "1"
         ],
         "textposition": "bottom center",
         "type": "scatter",
         "x": [
          0.2001041560337782
         ],
         "y": [
          0.42873635841926055
         ]
        },
        {
         "line": {
          "color": "black",
          "width": 2
         },
         "mode": "lines",
         "showlegend": false,
         "type": "scatter",
         "x": [
          0.3474531864059394,
          -0.49412122980521667
         ],
         "y": [
          -0.7118337028923702,
          -1
         ]
        },
        {
         "mode": "text",
         "showlegend": false,
         "text": [
          "2"
         ],
         "textposition": "bottom center",
         "type": "scatter",
         "x": [
          -0.07333402169963862
         ],
         "y": [
          -0.8559168514461851
         ]
        },
        {
         "line": {
          "color": "black",
          "width": 2
         },
         "mode": "lines",
         "showlegend": false,
         "type": "scatter",
         "x": [
          -0.49412122980521667,
          -0.20696288445172933
         ],
         "y": [
          -1,
          -0.021071845471052574
         ]
        },
        {
         "mode": "text",
         "showlegend": false,
         "text": [
          "3"
         ],
         "textposition": "bottom center",
         "type": "scatter",
         "x": [
          -0.350542057128473
         ],
         "y": [
          -0.5105359227355263
         ]
        },
        {
         "line": {
          "color": "black",
          "width": 2
         },
         "mode": "lines",
         "showlegend": false,
         "type": "scatter",
         "x": [
          -0.20696288445172933,
          0.33987393561511814
         ],
         "y": [
          -0.021071845471052574,
          0.6217986829607193
         ]
        },
        {
         "mode": "text",
         "showlegend": false,
         "text": [
          "7"
         ],
         "textposition": "bottom center",
         "type": "scatter",
         "x": [
          0.0664555255816944
         ],
         "y": [
          0.30036341874483335
         ]
        },
        {
         "line": {
          "color": "black",
          "width": 2
         },
         "mode": "lines",
         "showlegend": false,
         "type": "scatter",
         "x": [
          0.33987393561511814,
          -0.04657738421654977
         ],
         "y": [
          0.6217986829607193,
          0.8754328315249028
         ]
        },
        {
         "mode": "text",
         "showlegend": false,
         "text": [
          "8"
         ],
         "textposition": "bottom center",
         "type": "scatter",
         "x": [
          0.14664827569928418
         ],
         "y": [
          0.748615757242811
         ]
        },
        {
         "marker": {
          "color": "lightblue",
          "size": 10
         },
         "mode": "markers+text",
         "showlegend": false,
         "text": [
          "0",
          "1",
          "5",
          "4",
          "3",
          "2"
         ],
         "textposition": "top center",
         "type": "scatter",
         "x": [
          0.06033437645243828,
          0.3474531864059394,
          -0.49412122980521667,
          -0.20696288445172933,
          0.33987393561511814,
          -0.04657738421654977
         ],
         "y": [
          0.2356740338778018,
          -0.7118337028923702,
          -1,
          -0.021071845471052574,
          0.6217986829607193,
          0.8754328315249028
         ]
        }
       ],
       "frames": [
        {
         "data": [
          {
           "marker": {
            "color": "red",
            "size": 10
           },
           "mode": "markers",
           "showlegend": false,
           "type": "scatter",
           "x": [
            0.33987393561511814
           ],
           "y": [
            0.6217986829607193
           ]
          }
         ],
         "name": "Step 1_Frame_0"
        },
        {
         "data": [
          {
           "marker": {
            "color": "red",
            "size": 10
           },
           "mode": "markers",
           "showlegend": false,
           "type": "scatter",
           "x": [
            0.33987393561511814,
            0.30081416275320044
           ],
           "y": [
            0.6217986829607193,
            0.575879359501307
           ]
          }
         ],
         "name": "Step 1_Frame_1"
        },
        {
         "data": [
          {
           "marker": {
            "color": "red",
            "size": 10
           },
           "mode": "markers",
           "showlegend": false,
           "type": "scatter",
           "x": [
            0.33987393561511814,
            0.30081416275320044,
            0.2617543898912828
           ],
           "y": [
            0.6217986829607193,
            0.575879359501307,
            0.5299600360418947
           ]
          }
         ],
         "name": "Step 1_Frame_2"
        },
        {
         "data": [
          {
           "marker": {
            "color": "red",
            "size": 10
           },
           "mode": "markers",
           "showlegend": false,
           "type": "scatter",
           "x": [
            0.33987393561511814,
            0.30081416275320044,
            0.2617543898912828,
            0.2226946170293651
           ],
           "y": [
            0.6217986829607193,
            0.575879359501307,
            0.5299600360418947,
            0.48404071258248244
           ]
          }
         ],
         "name": "Step 1_Frame_3"
        },
        {
         "data": [
          {
           "marker": {
            "color": "red",
            "size": 10
           },
           "mode": "markers",
           "showlegend": false,
           "type": "scatter",
           "x": [
            0.33987393561511814,
            0.30081416275320044,
            0.2617543898912828,
            0.2226946170293651,
            0.18363484416744744
           ],
           "y": [
            0.6217986829607193,
            0.575879359501307,
            0.5299600360418947,
            0.48404071258248244,
            0.4381213891230702
           ]
          }
         ],
         "name": "Step 1_Frame_4"
        },
        {
         "data": [
          {
           "marker": {
            "color": "red",
            "size": 10
           },
           "mode": "markers",
           "showlegend": false,
           "type": "scatter",
           "x": [
            0.33987393561511814,
            0.30081416275320044,
            0.2617543898912828,
            0.2226946170293651,
            0.18363484416744744,
            0.14457507130552977
           ],
           "y": [
            0.6217986829607193,
            0.575879359501307,
            0.5299600360418947,
            0.48404071258248244,
            0.4381213891230702,
            0.3922020656636579
           ]
          }
         ],
         "name": "Step 1_Frame_5"
        },
        {
         "data": [
          {
           "marker": {
            "color": "red",
            "size": 10
           },
           "mode": "markers",
           "showlegend": false,
           "type": "scatter",
           "x": [
            0.33987393561511814,
            0.30081416275320044,
            0.2617543898912828,
            0.2226946170293651,
            0.18363484416744744,
            0.14457507130552977,
            0.10551529844361207
           ],
           "y": [
            0.6217986829607193,
            0.575879359501307,
            0.5299600360418947,
            0.48404071258248244,
            0.4381213891230702,
            0.3922020656636579,
            0.3462827422042456
           ]
          }
         ],
         "name": "Step 1_Frame_6"
        },
        {
         "data": [
          {
           "marker": {
            "color": "red",
            "size": 10
           },
           "mode": "markers",
           "showlegend": false,
           "type": "scatter",
           "x": [
            0.33987393561511814,
            0.30081416275320044,
            0.2617543898912828,
            0.2226946170293651,
            0.18363484416744744,
            0.14457507130552977,
            0.10551529844361207,
            0.06645552558169443
           ],
           "y": [
            0.6217986829607193,
            0.575879359501307,
            0.5299600360418947,
            0.48404071258248244,
            0.4381213891230702,
            0.3922020656636579,
            0.3462827422042456,
            0.30036341874483335
           ]
          }
         ],
         "name": "Step 1_Frame_7"
        },
        {
         "data": [
          {
           "marker": {
            "color": "red",
            "size": 10
           },
           "mode": "markers",
           "showlegend": false,
           "type": "scatter",
           "x": [
            0.33987393561511814,
            0.30081416275320044,
            0.2617543898912828,
            0.2226946170293651,
            0.18363484416744744,
            0.14457507130552977,
            0.10551529844361207,
            0.06645552558169443,
            0.027395752719776734
           ],
           "y": [
            0.6217986829607193,
            0.575879359501307,
            0.5299600360418947,
            0.48404071258248244,
            0.4381213891230702,
            0.3922020656636579,
            0.3462827422042456,
            0.30036341874483335,
            0.25444409528542106
           ]
          }
         ],
         "name": "Step 1_Frame_8"
        },
        {
         "data": [
          {
           "marker": {
            "color": "red",
            "size": 10
           },
           "mode": "markers",
           "showlegend": false,
           "type": "scatter",
           "x": [
            0.33987393561511814,
            0.30081416275320044,
            0.2617543898912828,
            0.2226946170293651,
            0.18363484416744744,
            0.14457507130552977,
            0.10551529844361207,
            0.06645552558169443,
            0.027395752719776734,
            -0.011664020142140963
           ],
           "y": [
            0.6217986829607193,
            0.575879359501307,
            0.5299600360418947,
            0.48404071258248244,
            0.4381213891230702,
            0.3922020656636579,
            0.3462827422042456,
            0.30036341874483335,
            0.25444409528542106,
            0.20852477182600876
           ]
          }
         ],
         "name": "Step 1_Frame_9"
        },
        {
         "data": [
          {
           "marker": {
            "color": "red",
            "size": 10
           },
           "mode": "markers",
           "showlegend": false,
           "type": "scatter",
           "x": [
            0.33987393561511814,
            0.30081416275320044,
            0.2617543898912828,
            0.2226946170293651,
            0.18363484416744744,
            0.14457507130552977,
            0.10551529844361207,
            0.06645552558169443,
            0.027395752719776734,
            -0.011664020142140963,
            -0.050723793004058604
           ],
           "y": [
            0.6217986829607193,
            0.575879359501307,
            0.5299600360418947,
            0.48404071258248244,
            0.4381213891230702,
            0.3922020656636579,
            0.3462827422042456,
            0.30036341874483335,
            0.25444409528542106,
            0.20852477182600876,
            0.16260544836659652
           ]
          }
         ],
         "name": "Step 1_Frame_10"
        },
        {
         "data": [
          {
           "marker": {
            "color": "red",
            "size": 10
           },
           "mode": "markers",
           "showlegend": false,
           "type": "scatter",
           "x": [
            0.33987393561511814,
            0.30081416275320044,
            0.2617543898912828,
            0.2226946170293651,
            0.18363484416744744,
            0.14457507130552977,
            0.10551529844361207,
            0.06645552558169443,
            0.027395752719776734,
            -0.011664020142140963,
            -0.050723793004058604,
            -0.0897835658659763
           ],
           "y": [
            0.6217986829607193,
            0.575879359501307,
            0.5299600360418947,
            0.48404071258248244,
            0.4381213891230702,
            0.3922020656636579,
            0.3462827422042456,
            0.30036341874483335,
            0.25444409528542106,
            0.20852477182600876,
            0.16260544836659652,
            0.11668612490718422
           ]
          }
         ],
         "name": "Step 1_Frame_11"
        },
        {
         "data": [
          {
           "marker": {
            "color": "red",
            "size": 10
           },
           "mode": "markers",
           "showlegend": false,
           "type": "scatter",
           "x": [
            0.33987393561511814,
            0.30081416275320044,
            0.2617543898912828,
            0.2226946170293651,
            0.18363484416744744,
            0.14457507130552977,
            0.10551529844361207,
            0.06645552558169443,
            0.027395752719776734,
            -0.011664020142140963,
            -0.050723793004058604,
            -0.0897835658659763,
            -0.128843338727894
           ],
           "y": [
            0.6217986829607193,
            0.575879359501307,
            0.5299600360418947,
            0.48404071258248244,
            0.4381213891230702,
            0.3922020656636579,
            0.3462827422042456,
            0.30036341874483335,
            0.25444409528542106,
            0.20852477182600876,
            0.16260544836659652,
            0.11668612490718422,
            0.07076680144777192
           ]
          }
         ],
         "name": "Step 1_Frame_12"
        },
        {
         "data": [
          {
           "marker": {
            "color": "red",
            "size": 10
           },
           "mode": "markers",
           "showlegend": false,
           "type": "scatter",
           "x": [
            0.33987393561511814,
            0.30081416275320044,
            0.2617543898912828,
            0.2226946170293651,
            0.18363484416744744,
            0.14457507130552977,
            0.10551529844361207,
            0.06645552558169443,
            0.027395752719776734,
            -0.011664020142140963,
            -0.050723793004058604,
            -0.0897835658659763,
            -0.128843338727894,
            -0.16790311158981164
           ],
           "y": [
            0.6217986829607193,
            0.575879359501307,
            0.5299600360418947,
            0.48404071258248244,
            0.4381213891230702,
            0.3922020656636579,
            0.3462827422042456,
            0.30036341874483335,
            0.25444409528542106,
            0.20852477182600876,
            0.16260544836659652,
            0.11668612490718422,
            0.07076680144777192,
            0.024847477988359623
           ]
          }
         ],
         "name": "Step 1_Frame_13"
        },
        {
         "data": [
          {
           "marker": {
            "color": "red",
            "size": 10
           },
           "mode": "markers",
           "showlegend": false,
           "type": "scatter",
           "x": [
            0.33987393561511814,
            0.30081416275320044,
            0.2617543898912828,
            0.2226946170293651,
            0.18363484416744744,
            0.14457507130552977,
            0.10551529844361207,
            0.06645552558169443,
            0.027395752719776734,
            -0.011664020142140963,
            -0.050723793004058604,
            -0.0897835658659763,
            -0.128843338727894,
            -0.16790311158981164,
            -0.20696288445172933
           ],
           "y": [
            0.6217986829607193,
            0.575879359501307,
            0.5299600360418947,
            0.48404071258248244,
            0.4381213891230702,
            0.3922020656636579,
            0.3462827422042456,
            0.30036341874483335,
            0.25444409528542106,
            0.20852477182600876,
            0.16260544836659652,
            0.11668612490718422,
            0.07076680144777192,
            0.024847477988359623,
            -0.021071845471052574
           ]
          }
         ],
         "name": "Step 1_Frame_14"
        },
        {
         "data": [
          {
           "marker": {
            "color": "red",
            "size": 10
           },
           "mode": "markers",
           "showlegend": false,
           "type": "scatter",
           "x": [
            -0.20696288445172933
           ],
           "y": [
            -0.021071845471052574
           ]
          }
         ],
         "name": "Step 2_Frame_0"
        },
        {
         "data": [
          {
           "marker": {
            "color": "red",
            "size": 10
           },
           "mode": "markers",
           "showlegend": false,
           "type": "scatter",
           "x": [
            -0.20696288445172933,
            -0.2274741948341213
           ],
           "y": [
            -0.021071845471052574,
            -0.09099528508026311
           ]
          }
         ],
         "name": "Step 2_Frame_1"
        },
        {
         "data": [
          {
           "marker": {
            "color": "red",
            "size": 10
           },
           "mode": "markers",
           "showlegend": false,
           "type": "scatter",
           "x": [
            -0.20696288445172933,
            -0.2274741948341213,
            -0.24798550521651325
           ],
           "y": [
            -0.021071845471052574,
            -0.09099528508026311,
            -0.16091872468947363
           ]
          }
         ],
         "name": "Step 2_Frame_2"
        },
        {
         "data": [
          {
           "marker": {
            "color": "red",
            "size": 10
           },
           "mode": "markers",
           "showlegend": false,
           "type": "scatter",
           "x": [
            -0.20696288445172933,
            -0.2274741948341213,
            -0.24798550521651325,
            -0.2684968155989052
           ],
           "y": [
            -0.021071845471052574,
            -0.09099528508026311,
            -0.16091872468947363,
            -0.23084216429868415
           ]
          }
         ],
         "name": "Step 2_Frame_3"
        },
        {
         "data": [
          {
           "marker": {
            "color": "red",
            "size": 10
           },
           "mode": "markers",
           "showlegend": false,
           "type": "scatter",
           "x": [
            -0.20696288445172933,
            -0.2274741948341213,
            -0.24798550521651325,
            -0.2684968155989052,
            -0.28900812598129716
           ],
           "y": [
            -0.021071845471052574,
            -0.09099528508026311,
            -0.16091872468947363,
            -0.23084216429868415,
            -0.3007656039078947
           ]
          }
         ],
         "name": "Step 2_Frame_4"
        },
        {
         "data": [
          {
           "marker": {
            "color": "red",
            "size": 10
           },
           "mode": "markers",
           "showlegend": false,
           "type": "scatter",
           "x": [
            -0.20696288445172933,
            -0.2274741948341213,
            -0.24798550521651325,
            -0.2684968155989052,
            -0.28900812598129716,
            -0.3095194363636891
           ],
           "y": [
            -0.021071845471052574,
            -0.09099528508026311,
            -0.16091872468947363,
            -0.23084216429868415,
            -0.3007656039078947,
            -0.37068904351710524
           ]
          }
         ],
         "name": "Step 2_Frame_5"
        },
        {
         "data": [
          {
           "marker": {
            "color": "red",
            "size": 10
           },
           "mode": "markers",
           "showlegend": false,
           "type": "scatter",
           "x": [
            -0.20696288445172933,
            -0.2274741948341213,
            -0.24798550521651325,
            -0.2684968155989052,
            -0.28900812598129716,
            -0.3095194363636891,
            -0.330030746746081
           ],
           "y": [
            -0.021071845471052574,
            -0.09099528508026311,
            -0.16091872468947363,
            -0.23084216429868415,
            -0.3007656039078947,
            -0.37068904351710524,
            -0.44061248312631573
           ]
          }
         ],
         "name": "Step 2_Frame_6"
        },
        {
         "data": [
          {
           "marker": {
            "color": "red",
            "size": 10
           },
           "mode": "markers",
           "showlegend": false,
           "type": "scatter",
           "x": [
            -0.20696288445172933,
            -0.2274741948341213,
            -0.24798550521651325,
            -0.2684968155989052,
            -0.28900812598129716,
            -0.3095194363636891,
            -0.330030746746081,
            -0.350542057128473
           ],
           "y": [
            -0.021071845471052574,
            -0.09099528508026311,
            -0.16091872468947363,
            -0.23084216429868415,
            -0.3007656039078947,
            -0.37068904351710524,
            -0.44061248312631573,
            -0.5105359227355263
           ]
          }
         ],
         "name": "Step 2_Frame_7"
        },
        {
         "data": [
          {
           "marker": {
            "color": "red",
            "size": 10
           },
           "mode": "markers",
           "showlegend": false,
           "type": "scatter",
           "x": [
            -0.20696288445172933,
            -0.2274741948341213,
            -0.24798550521651325,
            -0.2684968155989052,
            -0.28900812598129716,
            -0.3095194363636891,
            -0.330030746746081,
            -0.350542057128473,
            -0.37105336751086493
           ],
           "y": [
            -0.021071845471052574,
            -0.09099528508026311,
            -0.16091872468947363,
            -0.23084216429868415,
            -0.3007656039078947,
            -0.37068904351710524,
            -0.44061248312631573,
            -0.5105359227355263,
            -0.5804593623447368
           ]
          }
         ],
         "name": "Step 2_Frame_8"
        },
        {
         "data": [
          {
           "marker": {
            "color": "red",
            "size": 10
           },
           "mode": "markers",
           "showlegend": false,
           "type": "scatter",
           "x": [
            -0.20696288445172933,
            -0.2274741948341213,
            -0.24798550521651325,
            -0.2684968155989052,
            -0.28900812598129716,
            -0.3095194363636891,
            -0.330030746746081,
            -0.350542057128473,
            -0.37105336751086493,
            -0.3915646778932569
           ],
           "y": [
            -0.021071845471052574,
            -0.09099528508026311,
            -0.16091872468947363,
            -0.23084216429868415,
            -0.3007656039078947,
            -0.37068904351710524,
            -0.44061248312631573,
            -0.5105359227355263,
            -0.5804593623447368,
            -0.6503828019539474
           ]
          }
         ],
         "name": "Step 2_Frame_9"
        },
        {
         "data": [
          {
           "marker": {
            "color": "red",
            "size": 10
           },
           "mode": "markers",
           "showlegend": false,
           "type": "scatter",
           "x": [
            -0.20696288445172933,
            -0.2274741948341213,
            -0.24798550521651325,
            -0.2684968155989052,
            -0.28900812598129716,
            -0.3095194363636891,
            -0.330030746746081,
            -0.350542057128473,
            -0.37105336751086493,
            -0.3915646778932569,
            -0.41207598827564884
           ],
           "y": [
            -0.021071845471052574,
            -0.09099528508026311,
            -0.16091872468947363,
            -0.23084216429868415,
            -0.3007656039078947,
            -0.37068904351710524,
            -0.44061248312631573,
            -0.5105359227355263,
            -0.5804593623447368,
            -0.6503828019539474,
            -0.7203062415631579
           ]
          }
         ],
         "name": "Step 2_Frame_10"
        },
        {
         "data": [
          {
           "marker": {
            "color": "red",
            "size": 10
           },
           "mode": "markers",
           "showlegend": false,
           "type": "scatter",
           "x": [
            -0.20696288445172933,
            -0.2274741948341213,
            -0.24798550521651325,
            -0.2684968155989052,
            -0.28900812598129716,
            -0.3095194363636891,
            -0.330030746746081,
            -0.350542057128473,
            -0.37105336751086493,
            -0.3915646778932569,
            -0.41207598827564884,
            -0.4325872986580408
           ],
           "y": [
            -0.021071845471052574,
            -0.09099528508026311,
            -0.16091872468947363,
            -0.23084216429868415,
            -0.3007656039078947,
            -0.37068904351710524,
            -0.44061248312631573,
            -0.5105359227355263,
            -0.5804593623447368,
            -0.6503828019539474,
            -0.7203062415631579,
            -0.7902296811723685
           ]
          }
         ],
         "name": "Step 2_Frame_11"
        },
        {
         "data": [
          {
           "marker": {
            "color": "red",
            "size": 10
           },
           "mode": "markers",
           "showlegend": false,
           "type": "scatter",
           "x": [
            -0.20696288445172933,
            -0.2274741948341213,
            -0.24798550521651325,
            -0.2684968155989052,
            -0.28900812598129716,
            -0.3095194363636891,
            -0.330030746746081,
            -0.350542057128473,
            -0.37105336751086493,
            -0.3915646778932569,
            -0.41207598827564884,
            -0.4325872986580408,
            -0.45309860904043275
           ],
           "y": [
            -0.021071845471052574,
            -0.09099528508026311,
            -0.16091872468947363,
            -0.23084216429868415,
            -0.3007656039078947,
            -0.37068904351710524,
            -0.44061248312631573,
            -0.5105359227355263,
            -0.5804593623447368,
            -0.6503828019539474,
            -0.7203062415631579,
            -0.7902296811723685,
            -0.8601531207815789
           ]
          }
         ],
         "name": "Step 2_Frame_12"
        },
        {
         "data": [
          {
           "marker": {
            "color": "red",
            "size": 10
           },
           "mode": "markers",
           "showlegend": false,
           "type": "scatter",
           "x": [
            -0.20696288445172933,
            -0.2274741948341213,
            -0.24798550521651325,
            -0.2684968155989052,
            -0.28900812598129716,
            -0.3095194363636891,
            -0.330030746746081,
            -0.350542057128473,
            -0.37105336751086493,
            -0.3915646778932569,
            -0.41207598827564884,
            -0.4325872986580408,
            -0.45309860904043275,
            -0.4736099194228247
           ],
           "y": [
            -0.021071845471052574,
            -0.09099528508026311,
            -0.16091872468947363,
            -0.23084216429868415,
            -0.3007656039078947,
            -0.37068904351710524,
            -0.44061248312631573,
            -0.5105359227355263,
            -0.5804593623447368,
            -0.6503828019539474,
            -0.7203062415631579,
            -0.7902296811723685,
            -0.8601531207815789,
            -0.9300765603907895
           ]
          }
         ],
         "name": "Step 2_Frame_13"
        },
        {
         "data": [
          {
           "marker": {
            "color": "red",
            "size": 10
           },
           "mode": "markers",
           "showlegend": false,
           "type": "scatter",
           "x": [
            -0.20696288445172933,
            -0.2274741948341213,
            -0.24798550521651325,
            -0.2684968155989052,
            -0.28900812598129716,
            -0.3095194363636891,
            -0.330030746746081,
            -0.350542057128473,
            -0.37105336751086493,
            -0.3915646778932569,
            -0.41207598827564884,
            -0.4325872986580408,
            -0.45309860904043275,
            -0.4736099194228247,
            -0.49412122980521667
           ],
           "y": [
            -0.021071845471052574,
            -0.09099528508026311,
            -0.16091872468947363,
            -0.23084216429868415,
            -0.3007656039078947,
            -0.37068904351710524,
            -0.44061248312631573,
            -0.5105359227355263,
            -0.5804593623447368,
            -0.6503828019539474,
            -0.7203062415631579,
            -0.7902296811723685,
            -0.8601531207815789,
            -0.9300765603907895,
            -1
           ]
          }
         ],
         "name": "Step 2_Frame_14"
        },
        {
         "data": [
          {
           "marker": {
            "color": "red",
            "size": 10
           },
           "mode": "markers",
           "showlegend": false,
           "type": "scatter",
           "x": [
            -0.49412122980521667
           ],
           "y": [
            -1
           ]
          }
         ],
         "name": "Step 3_Frame_0"
        },
        {
         "data": [
          {
           "marker": {
            "color": "red",
            "size": 10
           },
           "mode": "markers",
           "showlegend": false,
           "type": "scatter",
           "x": [
            -0.49412122980521667,
            -0.4340087715044198
           ],
           "y": [
            -1,
            -0.9794166930637407
           ]
          }
         ],
         "name": "Step 3_Frame_1"
        },
        {
         "data": [
          {
           "marker": {
            "color": "red",
            "size": 10
           },
           "mode": "markers",
           "showlegend": false,
           "type": "scatter",
           "x": [
            -0.49412122980521667,
            -0.4340087715044198,
            -0.37389631320362293
           ],
           "y": [
            -1,
            -0.9794166930637407,
            -0.9588333861274815
           ]
          }
         ],
         "name": "Step 3_Frame_2"
        },
        {
         "data": [
          {
           "marker": {
            "color": "red",
            "size": 10
           },
           "mode": "markers",
           "showlegend": false,
           "type": "scatter",
           "x": [
            -0.49412122980521667,
            -0.4340087715044198,
            -0.37389631320362293,
            -0.3137838549028261
           ],
           "y": [
            -1,
            -0.9794166930637407,
            -0.9588333861274815,
            -0.9382500791912222
           ]
          }
         ],
         "name": "Step 3_Frame_3"
        },
        {
         "data": [
          {
           "marker": {
            "color": "red",
            "size": 10
           },
           "mode": "markers",
           "showlegend": false,
           "type": "scatter",
           "x": [
            -0.49412122980521667,
            -0.4340087715044198,
            -0.37389631320362293,
            -0.3137838549028261,
            -0.2536713966020292
           ],
           "y": [
            -1,
            -0.9794166930637407,
            -0.9588333861274815,
            -0.9382500791912222,
            -0.917666772254963
           ]
          }
         ],
         "name": "Step 3_Frame_4"
        },
        {
         "data": [
          {
           "marker": {
            "color": "red",
            "size": 10
           },
           "mode": "markers",
           "showlegend": false,
           "type": "scatter",
           "x": [
            -0.49412122980521667,
            -0.4340087715044198,
            -0.37389631320362293,
            -0.3137838549028261,
            -0.2536713966020292,
            -0.19355893830123239
           ],
           "y": [
            -1,
            -0.9794166930637407,
            -0.9588333861274815,
            -0.9382500791912222,
            -0.917666772254963,
            -0.8970834653187036
           ]
          }
         ],
         "name": "Step 3_Frame_5"
        },
        {
         "data": [
          {
           "marker": {
            "color": "red",
            "size": 10
           },
           "mode": "markers",
           "showlegend": false,
           "type": "scatter",
           "x": [
            -0.49412122980521667,
            -0.4340087715044198,
            -0.37389631320362293,
            -0.3137838549028261,
            -0.2536713966020292,
            -0.19355893830123239,
            -0.13344648000043552
           ],
           "y": [
            -1,
            -0.9794166930637407,
            -0.9588333861274815,
            -0.9382500791912222,
            -0.917666772254963,
            -0.8970834653187036,
            -0.8765001583824444
           ]
          }
         ],
         "name": "Step 3_Frame_6"
        },
        {
         "data": [
          {
           "marker": {
            "color": "red",
            "size": 10
           },
           "mode": "markers",
           "showlegend": false,
           "type": "scatter",
           "x": [
            -0.49412122980521667,
            -0.4340087715044198,
            -0.37389631320362293,
            -0.3137838549028261,
            -0.2536713966020292,
            -0.19355893830123239,
            -0.13344648000043552,
            -0.07333402169963865
           ],
           "y": [
            -1,
            -0.9794166930637407,
            -0.9588333861274815,
            -0.9382500791912222,
            -0.917666772254963,
            -0.8970834653187036,
            -0.8765001583824444,
            -0.8559168514461851
           ]
          }
         ],
         "name": "Step 3_Frame_7"
        },
        {
         "data": [
          {
           "marker": {
            "color": "red",
            "size": 10
           },
           "mode": "markers",
           "showlegend": false,
           "type": "scatter",
           "x": [
            -0.49412122980521667,
            -0.4340087715044198,
            -0.37389631320362293,
            -0.3137838549028261,
            -0.2536713966020292,
            -0.19355893830123239,
            -0.13344648000043552,
            -0.07333402169963865,
            -0.013221563398841785
           ],
           "y": [
            -1,
            -0.9794166930637407,
            -0.9588333861274815,
            -0.9382500791912222,
            -0.917666772254963,
            -0.8970834653187036,
            -0.8765001583824444,
            -0.8559168514461851,
            -0.8353335445099259
           ]
          }
         ],
         "name": "Step 3_Frame_8"
        },
        {
         "data": [
          {
           "marker": {
            "color": "red",
            "size": 10
           },
           "mode": "markers",
           "showlegend": false,
           "type": "scatter",
           "x": [
            -0.49412122980521667,
            -0.4340087715044198,
            -0.37389631320362293,
            -0.3137838549028261,
            -0.2536713966020292,
            -0.19355893830123239,
            -0.13344648000043552,
            -0.07333402169963865,
            -0.013221563398841785,
            0.04689089490195508
           ],
           "y": [
            -1,
            -0.9794166930637407,
            -0.9588333861274815,
            -0.9382500791912222,
            -0.917666772254963,
            -0.8970834653187036,
            -0.8765001583824444,
            -0.8559168514461851,
            -0.8353335445099259,
            -0.8147502375736666
           ]
          }
         ],
         "name": "Step 3_Frame_9"
        },
        {
         "data": [
          {
           "marker": {
            "color": "red",
            "size": 10
           },
           "mode": "markers",
           "showlegend": false,
           "type": "scatter",
           "x": [
            -0.49412122980521667,
            -0.4340087715044198,
            -0.37389631320362293,
            -0.3137838549028261,
            -0.2536713966020292,
            -0.19355893830123239,
            -0.13344648000043552,
            -0.07333402169963865,
            -0.013221563398841785,
            0.04689089490195508,
            0.1070033532027519
           ],
           "y": [
            -1,
            -0.9794166930637407,
            -0.9588333861274815,
            -0.9382500791912222,
            -0.917666772254963,
            -0.8970834653187036,
            -0.8765001583824444,
            -0.8559168514461851,
            -0.8353335445099259,
            -0.8147502375736666,
            -0.7941669306374073
           ]
          }
         ],
         "name": "Step 3_Frame_10"
        },
        {
         "data": [
          {
           "marker": {
            "color": "red",
            "size": 10
           },
           "mode": "markers",
           "showlegend": false,
           "type": "scatter",
           "x": [
            -0.49412122980521667,
            -0.4340087715044198,
            -0.37389631320362293,
            -0.3137838549028261,
            -0.2536713966020292,
            -0.19355893830123239,
            -0.13344648000043552,
            -0.07333402169963865,
            -0.013221563398841785,
            0.04689089490195508,
            0.1070033532027519,
            0.16711581150354882
           ],
           "y": [
            -1,
            -0.9794166930637407,
            -0.9588333861274815,
            -0.9382500791912222,
            -0.917666772254963,
            -0.8970834653187036,
            -0.8765001583824444,
            -0.8559168514461851,
            -0.8353335445099259,
            -0.8147502375736666,
            -0.7941669306374073,
            -0.7735836237011481
           ]
          }
         ],
         "name": "Step 3_Frame_11"
        },
        {
         "data": [
          {
           "marker": {
            "color": "red",
            "size": 10
           },
           "mode": "markers",
           "showlegend": false,
           "type": "scatter",
           "x": [
            -0.49412122980521667,
            -0.4340087715044198,
            -0.37389631320362293,
            -0.3137838549028261,
            -0.2536713966020292,
            -0.19355893830123239,
            -0.13344648000043552,
            -0.07333402169963865,
            -0.013221563398841785,
            0.04689089490195508,
            0.1070033532027519,
            0.16711581150354882,
            0.22722826980434563
           ],
           "y": [
            -1,
            -0.9794166930637407,
            -0.9588333861274815,
            -0.9382500791912222,
            -0.917666772254963,
            -0.8970834653187036,
            -0.8765001583824444,
            -0.8559168514461851,
            -0.8353335445099259,
            -0.8147502375736666,
            -0.7941669306374073,
            -0.7735836237011481,
            -0.7530003167648888
           ]
          }
         ],
         "name": "Step 3_Frame_12"
        },
        {
         "data": [
          {
           "marker": {
            "color": "red",
            "size": 10
           },
           "mode": "markers",
           "showlegend": false,
           "type": "scatter",
           "x": [
            -0.49412122980521667,
            -0.4340087715044198,
            -0.37389631320362293,
            -0.3137838549028261,
            -0.2536713966020292,
            -0.19355893830123239,
            -0.13344648000043552,
            -0.07333402169963865,
            -0.013221563398841785,
            0.04689089490195508,
            0.1070033532027519,
            0.16711581150354882,
            0.22722826980434563,
            0.28734072810514255
           ],
           "y": [
            -1,
            -0.9794166930637407,
            -0.9588333861274815,
            -0.9382500791912222,
            -0.917666772254963,
            -0.8970834653187036,
            -0.8765001583824444,
            -0.8559168514461851,
            -0.8353335445099259,
            -0.8147502375736666,
            -0.7941669306374073,
            -0.7735836237011481,
            -0.7530003167648888,
            -0.7324170098286296
           ]
          }
         ],
         "name": "Step 3_Frame_13"
        },
        {
         "data": [
          {
           "marker": {
            "color": "red",
            "size": 10
           },
           "mode": "markers",
           "showlegend": false,
           "type": "scatter",
           "x": [
            -0.49412122980521667,
            -0.4340087715044198,
            -0.37389631320362293,
            -0.3137838549028261,
            -0.2536713966020292,
            -0.19355893830123239,
            -0.13344648000043552,
            -0.07333402169963865,
            -0.013221563398841785,
            0.04689089490195508,
            0.1070033532027519,
            0.16711581150354882,
            0.22722826980434563,
            0.28734072810514255,
            0.3474531864059394
           ],
           "y": [
            -1,
            -0.9794166930637407,
            -0.9588333861274815,
            -0.9382500791912222,
            -0.917666772254963,
            -0.8970834653187036,
            -0.8765001583824444,
            -0.8559168514461851,
            -0.8353335445099259,
            -0.8147502375736666,
            -0.7941669306374073,
            -0.7735836237011481,
            -0.7530003167648888,
            -0.7324170098286296,
            -0.7118337028923702
           ]
          }
         ],
         "name": "Step 3_Frame_14"
        },
        {
         "data": [
          {
           "marker": {
            "color": "red",
            "size": 10
           },
           "mode": "markers",
           "showlegend": false,
           "type": "scatter",
           "x": [
            0.3474531864059394
           ],
           "y": [
            -0.7118337028923702
           ]
          }
         ],
         "name": "Step 4_Frame_0"
        },
        {
         "data": [
          {
           "marker": {
            "color": "red",
            "size": 10
           },
           "mode": "markers",
           "showlegend": false,
           "type": "scatter",
           "x": [
            0.3474531864059394,
            0.3269446999806893
           ],
           "y": [
            -0.7118337028923702,
            -0.6441545788373579
           ]
          }
         ],
         "name": "Step 4_Frame_1"
        },
        {
         "data": [
          {
           "marker": {
            "color": "red",
            "size": 10
           },
           "mode": "markers",
           "showlegend": false,
           "type": "scatter",
           "x": [
            0.3474531864059394,
            0.3269446999806893,
            0.30643621355543926
           ],
           "y": [
            -0.7118337028923702,
            -0.6441545788373579,
            -0.5764754547823456
           ]
          }
         ],
         "name": "Step 4_Frame_2"
        },
        {
         "data": [
          {
           "marker": {
            "color": "red",
            "size": 10
           },
           "mode": "markers",
           "showlegend": false,
           "type": "scatter",
           "x": [
            0.3474531864059394,
            0.3269446999806893,
            0.30643621355543926,
            0.28592772713018916
           ],
           "y": [
            -0.7118337028923702,
            -0.6441545788373579,
            -0.5764754547823456,
            -0.5087963307273333
           ]
          }
         ],
         "name": "Step 4_Frame_3"
        },
        {
         "data": [
          {
           "marker": {
            "color": "red",
            "size": 10
           },
           "mode": "markers",
           "showlegend": false,
           "type": "scatter",
           "x": [
            0.3474531864059394,
            0.3269446999806893,
            0.30643621355543926,
            0.28592772713018916,
            0.2654192407049391
           ],
           "y": [
            -0.7118337028923702,
            -0.6441545788373579,
            -0.5764754547823456,
            -0.5087963307273333,
            -0.44111720667232107
           ]
          }
         ],
         "name": "Step 4_Frame_4"
        },
        {
         "data": [
          {
           "marker": {
            "color": "red",
            "size": 10
           },
           "mode": "markers",
           "showlegend": false,
           "type": "scatter",
           "x": [
            0.3474531864059394,
            0.3269446999806893,
            0.30643621355543926,
            0.28592772713018916,
            0.2654192407049391,
            0.244910754279689
           ],
           "y": [
            -0.7118337028923702,
            -0.6441545788373579,
            -0.5764754547823456,
            -0.5087963307273333,
            -0.44111720667232107,
            -0.37343808261730876
           ]
          }
         ],
         "name": "Step 4_Frame_5"
        },
        {
         "data": [
          {
           "marker": {
            "color": "red",
            "size": 10
           },
           "mode": "markers",
           "showlegend": false,
           "type": "scatter",
           "x": [
            0.3474531864059394,
            0.3269446999806893,
            0.30643621355543926,
            0.28592772713018916,
            0.2654192407049391,
            0.244910754279689,
            0.22440226785443892
           ],
           "y": [
            -0.7118337028923702,
            -0.6441545788373579,
            -0.5764754547823456,
            -0.5087963307273333,
            -0.44111720667232107,
            -0.37343808261730876,
            -0.3057589585622965
           ]
          }
         ],
         "name": "Step 4_Frame_6"
        },
        {
         "data": [
          {
           "marker": {
            "color": "red",
            "size": 10
           },
           "mode": "markers",
           "showlegend": false,
           "type": "scatter",
           "x": [
            0.3474531864059394,
            0.3269446999806893,
            0.30643621355543926,
            0.28592772713018916,
            0.2654192407049391,
            0.244910754279689,
            0.22440226785443892,
            0.20389378142918885
           ],
           "y": [
            -0.7118337028923702,
            -0.6441545788373579,
            -0.5764754547823456,
            -0.5087963307273333,
            -0.44111720667232107,
            -0.37343808261730876,
            -0.3057589585622965,
            -0.2380798345072842
           ]
          }
         ],
         "name": "Step 4_Frame_7"
        },
        {
         "data": [
          {
           "marker": {
            "color": "red",
            "size": 10
           },
           "mode": "markers",
           "showlegend": false,
           "type": "scatter",
           "x": [
            0.3474531864059394,
            0.3269446999806893,
            0.30643621355543926,
            0.28592772713018916,
            0.2654192407049391,
            0.244910754279689,
            0.22440226785443892,
            0.20389378142918885,
            0.18338529500393877
           ],
           "y": [
            -0.7118337028923702,
            -0.6441545788373579,
            -0.5764754547823456,
            -0.5087963307273333,
            -0.44111720667232107,
            -0.37343808261730876,
            -0.3057589585622965,
            -0.2380798345072842,
            -0.1704007104522719
           ]
          }
         ],
         "name": "Step 4_Frame_8"
        },
        {
         "data": [
          {
           "marker": {
            "color": "red",
            "size": 10
           },
           "mode": "markers",
           "showlegend": false,
           "type": "scatter",
           "x": [
            0.3474531864059394,
            0.3269446999806893,
            0.30643621355543926,
            0.28592772713018916,
            0.2654192407049391,
            0.244910754279689,
            0.22440226785443892,
            0.20389378142918885,
            0.18338529500393877,
            0.1628768085786887
           ],
           "y": [
            -0.7118337028923702,
            -0.6441545788373579,
            -0.5764754547823456,
            -0.5087963307273333,
            -0.44111720667232107,
            -0.37343808261730876,
            -0.3057589585622965,
            -0.2380798345072842,
            -0.1704007104522719,
            -0.10272158639725959
           ]
          }
         ],
         "name": "Step 4_Frame_9"
        },
        {
         "data": [
          {
           "marker": {
            "color": "red",
            "size": 10
           },
           "mode": "markers",
           "showlegend": false,
           "type": "scatter",
           "x": [
            0.3474531864059394,
            0.3269446999806893,
            0.30643621355543926,
            0.28592772713018916,
            0.2654192407049391,
            0.244910754279689,
            0.22440226785443892,
            0.20389378142918885,
            0.18338529500393877,
            0.1628768085786887,
            0.14236832215343861
           ],
           "y": [
            -0.7118337028923702,
            -0.6441545788373579,
            -0.5764754547823456,
            -0.5087963307273333,
            -0.44111720667232107,
            -0.37343808261730876,
            -0.3057589585622965,
            -0.2380798345072842,
            -0.1704007104522719,
            -0.10272158639725959,
            -0.03504246234224728
           ]
          }
         ],
         "name": "Step 4_Frame_10"
        },
        {
         "data": [
          {
           "marker": {
            "color": "red",
            "size": 10
           },
           "mode": "markers",
           "showlegend": false,
           "type": "scatter",
           "x": [
            0.3474531864059394,
            0.3269446999806893,
            0.30643621355543926,
            0.28592772713018916,
            0.2654192407049391,
            0.244910754279689,
            0.22440226785443892,
            0.20389378142918885,
            0.18338529500393877,
            0.1628768085786887,
            0.14236832215343861,
            0.12185983572818854
           ],
           "y": [
            -0.7118337028923702,
            -0.6441545788373579,
            -0.5764754547823456,
            -0.5087963307273333,
            -0.44111720667232107,
            -0.37343808261730876,
            -0.3057589585622965,
            -0.2380798345072842,
            -0.1704007104522719,
            -0.10272158639725959,
            -0.03504246234224728,
            0.032636661712765025
           ]
          }
         ],
         "name": "Step 4_Frame_11"
        },
        {
         "data": [
          {
           "marker": {
            "color": "red",
            "size": 10
           },
           "mode": "markers",
           "showlegend": false,
           "type": "scatter",
           "x": [
            0.3474531864059394,
            0.3269446999806893,
            0.30643621355543926,
            0.28592772713018916,
            0.2654192407049391,
            0.244910754279689,
            0.22440226785443892,
            0.20389378142918885,
            0.18338529500393877,
            0.1628768085786887,
            0.14236832215343861,
            0.12185983572818854,
            0.10135134930293843
           ],
           "y": [
            -0.7118337028923702,
            -0.6441545788373579,
            -0.5764754547823456,
            -0.5087963307273333,
            -0.44111720667232107,
            -0.37343808261730876,
            -0.3057589585622965,
            -0.2380798345072842,
            -0.1704007104522719,
            -0.10272158639725959,
            -0.03504246234224728,
            0.032636661712765025,
            0.10031578576777722
           ]
          }
         ],
         "name": "Step 4_Frame_12"
        },
        {
         "data": [
          {
           "marker": {
            "color": "red",
            "size": 10
           },
           "mode": "markers",
           "showlegend": false,
           "type": "scatter",
           "x": [
            0.3474531864059394,
            0.3269446999806893,
            0.30643621355543926,
            0.28592772713018916,
            0.2654192407049391,
            0.244910754279689,
            0.22440226785443892,
            0.20389378142918885,
            0.18338529500393877,
            0.1628768085786887,
            0.14236832215343861,
            0.12185983572818854,
            0.10135134930293843,
            0.08084286287768838
           ],
           "y": [
            -0.7118337028923702,
            -0.6441545788373579,
            -0.5764754547823456,
            -0.5087963307273333,
            -0.44111720667232107,
            -0.37343808261730876,
            -0.3057589585622965,
            -0.2380798345072842,
            -0.1704007104522719,
            -0.10272158639725959,
            -0.03504246234224728,
            0.032636661712765025,
            0.10031578576777722,
            0.16799490982278953
           ]
          }
         ],
         "name": "Step 4_Frame_13"
        },
        {
         "data": [
          {
           "marker": {
            "color": "red",
            "size": 10
           },
           "mode": "markers",
           "showlegend": false,
           "type": "scatter",
           "x": [
            0.3474531864059394,
            0.3269446999806893,
            0.30643621355543926,
            0.28592772713018916,
            0.2654192407049391,
            0.244910754279689,
            0.22440226785443892,
            0.20389378142918885,
            0.18338529500393877,
            0.1628768085786887,
            0.14236832215343861,
            0.12185983572818854,
            0.10135134930293843,
            0.08084286287768838,
            0.06033437645243828
           ],
           "y": [
            -0.7118337028923702,
            -0.6441545788373579,
            -0.5764754547823456,
            -0.5087963307273333,
            -0.44111720667232107,
            -0.37343808261730876,
            -0.3057589585622965,
            -0.2380798345072842,
            -0.1704007104522719,
            -0.10272158639725959,
            -0.03504246234224728,
            0.032636661712765025,
            0.10031578576777722,
            0.16799490982278953,
            0.2356740338778018
           ]
          }
         ],
         "name": "Step 4_Frame_14"
        }
       ],
       "layout": {
        "showlegend": false,
        "template": {
         "data": {
          "bar": [
           {
            "error_x": {
             "color": "#2a3f5f"
            },
            "error_y": {
             "color": "#2a3f5f"
            },
            "marker": {
             "line": {
              "color": "#E5ECF6",
              "width": 0.5
             },
             "pattern": {
              "fillmode": "overlay",
              "size": 10,
              "solidity": 0.2
             }
            },
            "type": "bar"
           }
          ],
          "barpolar": [
           {
            "marker": {
             "line": {
              "color": "#E5ECF6",
              "width": 0.5
             },
             "pattern": {
              "fillmode": "overlay",
              "size": 10,
              "solidity": 0.2
             }
            },
            "type": "barpolar"
           }
          ],
          "carpet": [
           {
            "aaxis": {
             "endlinecolor": "#2a3f5f",
             "gridcolor": "white",
             "linecolor": "white",
             "minorgridcolor": "white",
             "startlinecolor": "#2a3f5f"
            },
            "baxis": {
             "endlinecolor": "#2a3f5f",
             "gridcolor": "white",
             "linecolor": "white",
             "minorgridcolor": "white",
             "startlinecolor": "#2a3f5f"
            },
            "type": "carpet"
           }
          ],
          "choropleth": [
           {
            "colorbar": {
             "outlinewidth": 0,
             "ticks": ""
            },
            "type": "choropleth"
           }
          ],
          "contour": [
           {
            "colorbar": {
             "outlinewidth": 0,
             "ticks": ""
            },
            "colorscale": [
             [
              0,
              "#0d0887"
             ],
             [
              0.1111111111111111,
              "#46039f"
             ],
             [
              0.2222222222222222,
              "#7201a8"
             ],
             [
              0.3333333333333333,
              "#9c179e"
             ],
             [
              0.4444444444444444,
              "#bd3786"
             ],
             [
              0.5555555555555556,
              "#d8576b"
             ],
             [
              0.6666666666666666,
              "#ed7953"
             ],
             [
              0.7777777777777778,
              "#fb9f3a"
             ],
             [
              0.8888888888888888,
              "#fdca26"
             ],
             [
              1,
              "#f0f921"
             ]
            ],
            "type": "contour"
           }
          ],
          "contourcarpet": [
           {
            "colorbar": {
             "outlinewidth": 0,
             "ticks": ""
            },
            "type": "contourcarpet"
           }
          ],
          "heatmap": [
           {
            "colorbar": {
             "outlinewidth": 0,
             "ticks": ""
            },
            "colorscale": [
             [
              0,
              "#0d0887"
             ],
             [
              0.1111111111111111,
              "#46039f"
             ],
             [
              0.2222222222222222,
              "#7201a8"
             ],
             [
              0.3333333333333333,
              "#9c179e"
             ],
             [
              0.4444444444444444,
              "#bd3786"
             ],
             [
              0.5555555555555556,
              "#d8576b"
             ],
             [
              0.6666666666666666,
              "#ed7953"
             ],
             [
              0.7777777777777778,
              "#fb9f3a"
             ],
             [
              0.8888888888888888,
              "#fdca26"
             ],
             [
              1,
              "#f0f921"
             ]
            ],
            "type": "heatmap"
           }
          ],
          "heatmapgl": [
           {
            "colorbar": {
             "outlinewidth": 0,
             "ticks": ""
            },
            "colorscale": [
             [
              0,
              "#0d0887"
             ],
             [
              0.1111111111111111,
              "#46039f"
             ],
             [
              0.2222222222222222,
              "#7201a8"
             ],
             [
              0.3333333333333333,
              "#9c179e"
             ],
             [
              0.4444444444444444,
              "#bd3786"
             ],
             [
              0.5555555555555556,
              "#d8576b"
             ],
             [
              0.6666666666666666,
              "#ed7953"
             ],
             [
              0.7777777777777778,
              "#fb9f3a"
             ],
             [
              0.8888888888888888,
              "#fdca26"
             ],
             [
              1,
              "#f0f921"
             ]
            ],
            "type": "heatmapgl"
           }
          ],
          "histogram": [
           {
            "marker": {
             "pattern": {
              "fillmode": "overlay",
              "size": 10,
              "solidity": 0.2
             }
            },
            "type": "histogram"
           }
          ],
          "histogram2d": [
           {
            "colorbar": {
             "outlinewidth": 0,
             "ticks": ""
            },
            "colorscale": [
             [
              0,
              "#0d0887"
             ],
             [
              0.1111111111111111,
              "#46039f"
             ],
             [
              0.2222222222222222,
              "#7201a8"
             ],
             [
              0.3333333333333333,
              "#9c179e"
             ],
             [
              0.4444444444444444,
              "#bd3786"
             ],
             [
              0.5555555555555556,
              "#d8576b"
             ],
             [
              0.6666666666666666,
              "#ed7953"
             ],
             [
              0.7777777777777778,
              "#fb9f3a"
             ],
             [
              0.8888888888888888,
              "#fdca26"
             ],
             [
              1,
              "#f0f921"
             ]
            ],
            "type": "histogram2d"
           }
          ],
          "histogram2dcontour": [
           {
            "colorbar": {
             "outlinewidth": 0,
             "ticks": ""
            },
            "colorscale": [
             [
              0,
              "#0d0887"
             ],
             [
              0.1111111111111111,
              "#46039f"
             ],
             [
              0.2222222222222222,
              "#7201a8"
             ],
             [
              0.3333333333333333,
              "#9c179e"
             ],
             [
              0.4444444444444444,
              "#bd3786"
             ],
             [
              0.5555555555555556,
              "#d8576b"
             ],
             [
              0.6666666666666666,
              "#ed7953"
             ],
             [
              0.7777777777777778,
              "#fb9f3a"
             ],
             [
              0.8888888888888888,
              "#fdca26"
             ],
             [
              1,
              "#f0f921"
             ]
            ],
            "type": "histogram2dcontour"
           }
          ],
          "mesh3d": [
           {
            "colorbar": {
             "outlinewidth": 0,
             "ticks": ""
            },
            "type": "mesh3d"
           }
          ],
          "parcoords": [
           {
            "line": {
             "colorbar": {
              "outlinewidth": 0,
              "ticks": ""
             }
            },
            "type": "parcoords"
           }
          ],
          "pie": [
           {
            "automargin": true,
            "type": "pie"
           }
          ],
          "scatter": [
           {
            "fillpattern": {
             "fillmode": "overlay",
             "size": 10,
             "solidity": 0.2
            },
            "type": "scatter"
           }
          ],
          "scatter3d": [
           {
            "line": {
             "colorbar": {
              "outlinewidth": 0,
              "ticks": ""
             }
            },
            "marker": {
             "colorbar": {
              "outlinewidth": 0,
              "ticks": ""
             }
            },
            "type": "scatter3d"
           }
          ],
          "scattercarpet": [
           {
            "marker": {
             "colorbar": {
              "outlinewidth": 0,
              "ticks": ""
             }
            },
            "type": "scattercarpet"
           }
          ],
          "scattergeo": [
           {
            "marker": {
             "colorbar": {
              "outlinewidth": 0,
              "ticks": ""
             }
            },
            "type": "scattergeo"
           }
          ],
          "scattergl": [
           {
            "marker": {
             "colorbar": {
              "outlinewidth": 0,
              "ticks": ""
             }
            },
            "type": "scattergl"
           }
          ],
          "scattermapbox": [
           {
            "marker": {
             "colorbar": {
              "outlinewidth": 0,
              "ticks": ""
             }
            },
            "type": "scattermapbox"
           }
          ],
          "scatterpolar": [
           {
            "marker": {
             "colorbar": {
              "outlinewidth": 0,
              "ticks": ""
             }
            },
            "type": "scatterpolar"
           }
          ],
          "scatterpolargl": [
           {
            "marker": {
             "colorbar": {
              "outlinewidth": 0,
              "ticks": ""
             }
            },
            "type": "scatterpolargl"
           }
          ],
          "scatterternary": [
           {
            "marker": {
             "colorbar": {
              "outlinewidth": 0,
              "ticks": ""
             }
            },
            "type": "scatterternary"
           }
          ],
          "surface": [
           {
            "colorbar": {
             "outlinewidth": 0,
             "ticks": ""
            },
            "colorscale": [
             [
              0,
              "#0d0887"
             ],
             [
              0.1111111111111111,
              "#46039f"
             ],
             [
              0.2222222222222222,
              "#7201a8"
             ],
             [
              0.3333333333333333,
              "#9c179e"
             ],
             [
              0.4444444444444444,
              "#bd3786"
             ],
             [
              0.5555555555555556,
              "#d8576b"
             ],
             [
              0.6666666666666666,
              "#ed7953"
             ],
             [
              0.7777777777777778,
              "#fb9f3a"
             ],
             [
              0.8888888888888888,
              "#fdca26"
             ],
             [
              1,
              "#f0f921"
             ]
            ],
            "type": "surface"
           }
          ],
          "table": [
           {
            "cells": {
             "fill": {
              "color": "#EBF0F8"
             },
             "line": {
              "color": "white"
             }
            },
            "header": {
             "fill": {
              "color": "#C8D4E3"
             },
             "line": {
              "color": "white"
             }
            },
            "type": "table"
           }
          ]
         },
         "layout": {
          "annotationdefaults": {
           "arrowcolor": "#2a3f5f",
           "arrowhead": 0,
           "arrowwidth": 1
          },
          "autotypenumbers": "strict",
          "coloraxis": {
           "colorbar": {
            "outlinewidth": 0,
            "ticks": ""
           }
          },
          "colorscale": {
           "diverging": [
            [
             0,
             "#8e0152"
            ],
            [
             0.1,
             "#c51b7d"
            ],
            [
             0.2,
             "#de77ae"
            ],
            [
             0.3,
             "#f1b6da"
            ],
            [
             0.4,
             "#fde0ef"
            ],
            [
             0.5,
             "#f7f7f7"
            ],
            [
             0.6,
             "#e6f5d0"
            ],
            [
             0.7,
             "#b8e186"
            ],
            [
             0.8,
             "#7fbc41"
            ],
            [
             0.9,
             "#4d9221"
            ],
            [
             1,
             "#276419"
            ]
           ],
           "sequential": [
            [
             0,
             "#0d0887"
            ],
            [
             0.1111111111111111,
             "#46039f"
            ],
            [
             0.2222222222222222,
             "#7201a8"
            ],
            [
             0.3333333333333333,
             "#9c179e"
            ],
            [
             0.4444444444444444,
             "#bd3786"
            ],
            [
             0.5555555555555556,
             "#d8576b"
            ],
            [
             0.6666666666666666,
             "#ed7953"
            ],
            [
             0.7777777777777778,
             "#fb9f3a"
            ],
            [
             0.8888888888888888,
             "#fdca26"
            ],
            [
             1,
             "#f0f921"
            ]
           ],
           "sequentialminus": [
            [
             0,
             "#0d0887"
            ],
            [
             0.1111111111111111,
             "#46039f"
            ],
            [
             0.2222222222222222,
             "#7201a8"
            ],
            [
             0.3333333333333333,
             "#9c179e"
            ],
            [
             0.4444444444444444,
             "#bd3786"
            ],
            [
             0.5555555555555556,
             "#d8576b"
            ],
            [
             0.6666666666666666,
             "#ed7953"
            ],
            [
             0.7777777777777778,
             "#fb9f3a"
            ],
            [
             0.8888888888888888,
             "#fdca26"
            ],
            [
             1,
             "#f0f921"
            ]
           ]
          },
          "colorway": [
           "#636efa",
           "#EF553B",
           "#00cc96",
           "#ab63fa",
           "#FFA15A",
           "#19d3f3",
           "#FF6692",
           "#B6E880",
           "#FF97FF",
           "#FECB52"
          ],
          "font": {
           "color": "#2a3f5f"
          },
          "geo": {
           "bgcolor": "white",
           "lakecolor": "white",
           "landcolor": "#E5ECF6",
           "showlakes": true,
           "showland": true,
           "subunitcolor": "white"
          },
          "hoverlabel": {
           "align": "left"
          },
          "hovermode": "closest",
          "mapbox": {
           "style": "light"
          },
          "paper_bgcolor": "white",
          "plot_bgcolor": "#E5ECF6",
          "polar": {
           "angularaxis": {
            "gridcolor": "white",
            "linecolor": "white",
            "ticks": ""
           },
           "bgcolor": "#E5ECF6",
           "radialaxis": {
            "gridcolor": "white",
            "linecolor": "white",
            "ticks": ""
           }
          },
          "scene": {
           "xaxis": {
            "backgroundcolor": "#E5ECF6",
            "gridcolor": "white",
            "gridwidth": 2,
            "linecolor": "white",
            "showbackground": true,
            "ticks": "",
            "zerolinecolor": "white"
           },
           "yaxis": {
            "backgroundcolor": "#E5ECF6",
            "gridcolor": "white",
            "gridwidth": 2,
            "linecolor": "white",
            "showbackground": true,
            "ticks": "",
            "zerolinecolor": "white"
           },
           "zaxis": {
            "backgroundcolor": "#E5ECF6",
            "gridcolor": "white",
            "gridwidth": 2,
            "linecolor": "white",
            "showbackground": true,
            "ticks": "",
            "zerolinecolor": "white"
           }
          },
          "shapedefaults": {
           "line": {
            "color": "#2a3f5f"
           }
          },
          "ternary": {
           "aaxis": {
            "gridcolor": "white",
            "linecolor": "white",
            "ticks": ""
           },
           "baxis": {
            "gridcolor": "white",
            "linecolor": "white",
            "ticks": ""
           },
           "bgcolor": "#E5ECF6",
           "caxis": {
            "gridcolor": "white",
            "linecolor": "white",
            "ticks": ""
           }
          },
          "title": {
           "x": 0.05
          },
          "xaxis": {
           "automargin": true,
           "gridcolor": "white",
           "linecolor": "white",
           "ticks": "",
           "title": {
            "standoff": 15
           },
           "zerolinecolor": "white",
           "zerolinewidth": 2
          },
          "yaxis": {
           "automargin": true,
           "gridcolor": "white",
           "linecolor": "white",
           "ticks": "",
           "title": {
            "standoff": 15
           },
           "zerolinecolor": "white",
           "zerolinewidth": 2
          }
         }
        },
        "title": {
         "text": "Data Transmission Simulation along Optimal Path"
        },
        "updatemenus": [
         {
          "buttons": [
           {
            "args": [
             null,
             {
              "frame": {
               "duration": 200,
               "redraw": true
              },
              "fromcurrent": true
             }
            ],
            "label": "Play",
            "method": "animate"
           },
           {
            "args": [
             [
              null
             ],
             {
              "frame": {
               "duration": 0,
               "redraw": true
              },
              "mode": "immediate",
              "transition": {
               "duration": 0
              }
             }
            ],
            "label": "Pause",
            "method": "animate"
           }
          ],
          "direction": "left",
          "pad": {
           "r": 10,
           "t": 87
          },
          "showactive": true,
          "type": "buttons",
          "x": 0.1,
          "xanchor": "right",
          "y": 0,
          "yanchor": "top"
         }
        ],
        "xaxis": {
         "showgrid": false,
         "zeroline": false
        },
        "yaxis": {
         "showgrid": false,
         "zeroline": false
        }
       }
      }
     },
     "metadata": {},
     "output_type": "display_data"
    }
   ],
   "source": [
    "import networkx as nx\n",
    "import plotly.graph_objects as go\n",
    "import numpy as np\n",
    "\n",
    "# Define the graph\n",
    "G = nx.Graph()\n",
    "edges = [(0, 1, 4), (1, 5, 2), (5, 4, 3), (4, 3, 7), (3, 2, 8), (0, 4, 15), (0, 2, 12), (3, 0, 1)]\n",
    "G.add_weighted_edges_from(edges)\n",
    "\n",
    "# Define the optimal path\n",
    "optimal_path = [3, 4, 5, 1, 0]\n",
    "\n",
    "# Position the nodes using a layout algorithm\n",
    "pos = nx.spring_layout(G, seed=42)\n",
    "\n",
    "# Create Plotly figure\n",
    "fig = go.Figure()\n",
    "\n",
    "# Add edges with weights to the figure\n",
    "for u, v, d in G.edges(data=True):\n",
    "    fig.add_trace(go.Scatter(x=[pos[u][0], pos[v][0]], y=[pos[u][1], pos[v][1]], \n",
    "                             mode='lines', line=dict(width=2, color='black'),\n",
    "                             showlegend=False))\n",
    "    mid_x = (pos[u][0] + pos[v][0]) / 2\n",
    "    mid_y = (pos[u][1] + pos[v][1]) / 2\n",
    "    fig.add_trace(go.Scatter(x=[mid_x], y=[mid_y], mode='text', text=[f\"{d['weight']}\"], \n",
    "                             textposition='bottom center', showlegend=False))\n",
    "\n",
    "# Add nodes\n",
    "fig.add_trace(go.Scatter(\n",
    "    x=[pos[node][0] for node in G.nodes()],\n",
    "    y=[pos[node][1] for node in G.nodes()],\n",
    "    mode='markers+text',\n",
    "    marker=dict(size=10, color='lightblue'),\n",
    "    text=[str(node) for node in G.nodes()],\n",
    "    textposition='top center',\n",
    "    showlegend=False\n",
    "))\n",
    "\n",
    "# Create animation frames\n",
    "frames = []\n",
    "num_dots = 15  # Number of dots in the trail\n",
    "duration_per_segment = 200  # Duration per frame in milliseconds\n",
    "\n",
    "for i in range(len(optimal_path) - 1):\n",
    "    u, v = optimal_path[i], optimal_path[i + 1]\n",
    "    \n",
    "    # Generate coordinates along the path\n",
    "    x_values = np.linspace(pos[u][0], pos[v][0], num=num_dots)\n",
    "    y_values = np.linspace(pos[u][1], pos[v][1], num=num_dots)\n",
    "    \n",
    "    # Create frames for the moving dots\n",
    "    for j in range(num_dots):\n",
    "        # Generate dot positions\n",
    "        x_pos = x_values[max(0, j - num_dots + 1):j + 1]\n",
    "        y_pos = y_values[max(0, j - num_dots + 1):j + 1]\n",
    "        \n",
    "        frames.append(go.Frame(\n",
    "            data=[\n",
    "                go.Scatter(x=x_pos, y=y_pos, \n",
    "                           mode='markers', \n",
    "                           marker=dict(size=10, color='red'),\n",
    "                           showlegend=False)\n",
    "            ],\n",
    "            name=f\"Step {i + 1}_Frame_{j}\"\n",
    "        ))\n",
    "\n",
    "# Add frames to the figure\n",
    "fig.frames = frames\n",
    "\n",
    "# Add play and pause buttons\n",
    "fig.update_layout(\n",
    "    updatemenus=[{\n",
    "        'buttons': [\n",
    "            {\n",
    "                'label': 'Play',\n",
    "                'method': 'animate',\n",
    "                'args': [None, {\n",
    "                    'frame': {'duration': duration_per_segment, 'redraw': True},\n",
    "                    'fromcurrent': True\n",
    "                }]\n",
    "            },\n",
    "            {\n",
    "                'label': 'Pause',\n",
    "                'method': 'animate',\n",
    "                'args': [[None], {\n",
    "                    'frame': {'duration': 0, 'redraw': True},\n",
    "                    'mode': 'immediate',\n",
    "                    'transition': {'duration': 0}\n",
    "                }]\n",
    "            }\n",
    "        ],\n",
    "        'direction': 'left',\n",
    "        'pad': {'r': 10, 't': 87},\n",
    "        'showactive': True,\n",
    "        'type': 'buttons',\n",
    "        'x': 0.1,\n",
    "        'xanchor': 'right',\n",
    "        'y': 0,\n",
    "        'yanchor': 'top'\n",
    "    }]\n",
    ")\n",
    "\n",
    "# Update layout for better visualization\n",
    "fig.update_layout(\n",
    "    title=\"Data Transmission Simulation along Optimal Path\",\n",
    "    xaxis=dict(showgrid=False, zeroline=False),\n",
    "    yaxis=dict(showgrid=False, zeroline=False),\n",
    "    showlegend=False\n",
    ")\n",
    "\n",
    "# Show the plot\n",
    "fig.show()\n"
   ]
  }
 ],
 "metadata": {
  "kernelspec": {
   "display_name": "Python 3 (ipykernel)",
   "language": "python",
   "name": "python3"
  },
  "language_info": {
   "codemirror_mode": {
    "name": "ipython",
    "version": 3
   },
   "file_extension": ".py",
   "mimetype": "text/x-python",
   "name": "python",
   "nbconvert_exporter": "python",
   "pygments_lexer": "ipython3",
   "version": "3.11.9"
  }
 },
 "nbformat": 4,
 "nbformat_minor": 5
}
